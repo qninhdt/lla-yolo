{
 "cells": [
  {
   "cell_type": "code",
   "execution_count": 9,
   "metadata": {},
   "outputs": [],
   "source": [
    "# compute anchor boxes for a dataset\n",
    "from sklearn.cluster import KMeans\n",
    "import numpy as np\n",
    "import json"
   ]
  },
  {
   "cell_type": "code",
   "execution_count": 10,
   "metadata": {},
   "outputs": [],
   "source": [
    "with open(\"./data/exdark_coco/annotations/train.json\") as f:\n",
    "    data = json.load(f)\n",
    "    images = data[\"images\"]\n",
    "    annotations = data[\"annotations\"]"
   ]
  },
  {
   "cell_type": "code",
   "execution_count": 11,
   "metadata": {},
   "outputs": [],
   "source": [
    "img_map = {}\n",
    "for img in images:\n",
    "    img_map[img[\"id\"]] = max(img[\"width\"], img[\"height\"])"
   ]
  },
  {
   "cell_type": "code",
   "execution_count": 12,
   "metadata": {},
   "outputs": [],
   "source": [
    "boxes = []\n",
    "for annotation in annotations:\n",
    "    width = annotation[\"bbox\"][2]\n",
    "    height = annotation[\"bbox\"][3]\n",
    "\n",
    "    # normalize the width and height\n",
    "    width /= img_map[annotation[\"image_id\"]]\n",
    "    height /= img_map[annotation[\"image_id\"]]\n",
    "\n",
    "    width *= 640\n",
    "    height *= 640\n",
    "\n",
    "    boxes.append([width, height])\n",
    "\n",
    "boxes = np.array(boxes)"
   ]
  },
  {
   "cell_type": "code",
   "execution_count": 13,
   "metadata": {},
   "outputs": [
    {
     "name": "stderr",
     "output_type": "stream",
     "text": [
      "/home/qninhdt/miniconda3/envs/mmyolo/lib/python3.8/site-packages/sklearn/cluster/_kmeans.py:1416: FutureWarning: The default value of `n_init` will change from 10 to 'auto' in 1.4. Set the value of `n_init` explicitly to suppress the warning\n",
      "  super()._check_params_vs_input(X, default_n_init=10)\n"
     ]
    }
   ],
   "source": [
    "kmeans = KMeans(n_clusters=9, random_state=0).fit(boxes)\n",
    "anchors = kmeans.cluster_centers_"
   ]
  },
  {
   "cell_type": "code",
   "execution_count": 14,
   "metadata": {},
   "outputs": [
    {
     "name": "stdout",
     "output_type": "stream",
     "text": [
      "[[ 45  54]\n",
      " [ 69 128]\n",
      " [140 100]\n",
      " [116 223]\n",
      " [240 171]\n",
      " [186 344]\n",
      " [369 232]\n",
      " [329 457]\n",
      " [549 313]]\n"
     ]
    }
   ],
   "source": [
    "# sort and convert to int\n",
    "anchors = anchors[np.argsort(anchors.prod(axis=1))]\n",
    "anchors = anchors.astype(int)\n",
    "\n",
    "print(anchors)"
   ]
  }
 ],
 "metadata": {
  "kernelspec": {
   "display_name": "mmyolo",
   "language": "python",
   "name": "python3"
  },
  "language_info": {
   "codemirror_mode": {
    "name": "ipython",
    "version": 3
   },
   "file_extension": ".py",
   "mimetype": "text/x-python",
   "name": "python",
   "nbconvert_exporter": "python",
   "pygments_lexer": "ipython3",
   "version": "3.8.19"
  }
 },
 "nbformat": 4,
 "nbformat_minor": 2
}
